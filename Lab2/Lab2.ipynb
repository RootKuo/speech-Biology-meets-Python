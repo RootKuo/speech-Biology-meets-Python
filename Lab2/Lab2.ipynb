{
 "cells": [
  {
   "cell_type": "code",
   "execution_count": 1,
   "metadata": {},
   "outputs": [
    {
     "data": {
      "text/html": [
       "<div>\n",
       "<style>\n",
       "    .dataframe thead tr:only-child th {\n",
       "        text-align: right;\n",
       "    }\n",
       "\n",
       "    .dataframe thead th {\n",
       "        text-align: left;\n",
       "    }\n",
       "\n",
       "    .dataframe tbody tr th {\n",
       "        vertical-align: top;\n",
       "    }\n",
       "</style>\n",
       "<table border=\"1\" class=\"dataframe\">\n",
       "  <thead>\n",
       "    <tr style=\"text-align: right;\">\n",
       "      <th></th>\n",
       "      <th>circRNA</th>\n",
       "      <th>miRNAs</th>\n",
       "      <th>numSites</th>\n",
       "    </tr>\n",
       "  </thead>\n",
       "  <tbody>\n",
       "    <tr>\n",
       "      <th>0</th>\n",
       "      <td>hsa_circ_0000005</td>\n",
       "      <td>[hsa-miR-100, hsa-miR-1178, hsa-miR-1179, hsa-...</td>\n",
       "      <td>[1, 7, 1, 3, 1, 5, 1, 23, 7, 18, 11, 5, 18, 6,...</td>\n",
       "    </tr>\n",
       "    <tr>\n",
       "      <th>1</th>\n",
       "      <td>hsa_circ_0000003</td>\n",
       "      <td>[hsa-miR-100, hsa-miR-1178, hsa-miR-1179, hsa-...</td>\n",
       "      <td>[2, 6, 2, 2, 1, 5, 1, 7, 6, 5, 4, 9, 4, 1, 2, ...</td>\n",
       "    </tr>\n",
       "    <tr>\n",
       "      <th>2</th>\n",
       "      <td>hsa_circ_0000001</td>\n",
       "      <td>[hsa-miR-1224-3p, hsa-miR-758]</td>\n",
       "      <td>[1, 1]</td>\n",
       "    </tr>\n",
       "    <tr>\n",
       "      <th>3</th>\n",
       "      <td>hsa_circ_0000006</td>\n",
       "      <td>[hsa-miR-100, hsa-miR-1178, hsa-miR-1180, hsa-...</td>\n",
       "      <td>[1, 6, 3, 2, 3, 2, 17, 5, 12, 11, 5, 16, 4, 9,...</td>\n",
       "    </tr>\n",
       "    <tr>\n",
       "      <th>4</th>\n",
       "      <td>hsa_circ_0000007</td>\n",
       "      <td>[hsa-miR-492, hsa-miR-508-3p, hsa-miR-665, hsa...</td>\n",
       "      <td>[1, 1, 1, 1]</td>\n",
       "    </tr>\n",
       "  </tbody>\n",
       "</table>\n",
       "</div>"
      ],
      "text/plain": [
       "            circRNA                                             miRNAs  \\\n",
       "0  hsa_circ_0000005  [hsa-miR-100, hsa-miR-1178, hsa-miR-1179, hsa-...   \n",
       "1  hsa_circ_0000003  [hsa-miR-100, hsa-miR-1178, hsa-miR-1179, hsa-...   \n",
       "2  hsa_circ_0000001                     [hsa-miR-1224-3p, hsa-miR-758]   \n",
       "3  hsa_circ_0000006  [hsa-miR-100, hsa-miR-1178, hsa-miR-1180, hsa-...   \n",
       "4  hsa_circ_0000007  [hsa-miR-492, hsa-miR-508-3p, hsa-miR-665, hsa...   \n",
       "\n",
       "                                            numSites  \n",
       "0  [1, 7, 1, 3, 1, 5, 1, 23, 7, 18, 11, 5, 18, 6,...  \n",
       "1  [2, 6, 2, 2, 1, 5, 1, 7, 6, 5, 4, 9, 4, 1, 2, ...  \n",
       "2                                             [1, 1]  \n",
       "3  [1, 6, 3, 2, 3, 2, 17, 5, 12, 11, 5, 16, 4, 9,...  \n",
       "4                                       [1, 1, 1, 1]  "
      ]
     },
     "execution_count": 1,
     "metadata": {},
     "output_type": "execute_result"
    }
   ],
   "source": [
    "import numpy as np\n",
    "import pandas as pd\n",
    "df = pd.read_json(\"small-circRNA2miRNA.json\")\n",
    "df.head()"
   ]
  },
  {
   "cell_type": "markdown",
   "metadata": {},
   "source": [
    "# Hint 0\n",
    "Csv file format:\n",
    "https://en.wikipedia.org/wiki/Comma-separated_values"
   ]
  },
  {
   "cell_type": "markdown",
   "metadata": {},
   "source": [
    "# Hint 1"
   ]
  },
  {
   "cell_type": "code",
   "execution_count": 2,
   "metadata": {},
   "outputs": [
    {
     "name": "stdout",
     "output_type": "stream",
     "text": [
      "The number of element of A is 5\n",
      "The position 2 in list A is 3\n",
      "The number of element of B is 4\n",
      "The number of element of B[0] is 3\n",
      "The position 2 in B[0] is 3\n"
     ]
    }
   ],
   "source": [
    "A = [0, 1, 3, 5, 6]\n",
    "print(\"The number of element of A is\", len(A))\n",
    "print(\"The position 2 in list A is\", A[2])\n",
    "B = [[1, 2, 3],[4, 5, 6],[7, 8, 9],[10, 11, 12]]\n",
    "print(\"The number of element of B is\", len(B))\n",
    "print(\"The number of element of B[0] is\", len(B[0]))\n",
    "print(\"The position 2 in B[0] is\", B[0][2])"
   ]
  },
  {
   "cell_type": "markdown",
   "metadata": {},
   "source": [
    "# Hint 2"
   ]
  },
  {
   "cell_type": "code",
   "execution_count": 3,
   "metadata": {},
   "outputs": [
    {
     "name": "stdout",
     "output_type": "stream",
     "text": [
      "The number of element of A is 0\n",
      "A = []\n",
      "The number of element of A is 1\n",
      "A = [1]\n",
      "The number of element of A is 2\n",
      "A = [1, [2, 3]]\n"
     ]
    }
   ],
   "source": [
    "A = []\n",
    "print(\"The number of element of A is\", len(A))\n",
    "print(\"A =\",A)\n",
    "A.append(1)\n",
    "print(\"The number of element of A is\", len(A))\n",
    "print(\"A =\",A)\n",
    "A.append([2, 3])\n",
    "print(\"The number of element of A is\", len(A))\n",
    "print(\"A =\",A)"
   ]
  },
  {
   "cell_type": "markdown",
   "metadata": {},
   "source": [
    "# Hint 3"
   ]
  },
  {
   "cell_type": "code",
   "execution_count": 4,
   "metadata": {},
   "outputs": [
    {
     "name": "stdout",
     "output_type": "stream",
     "text": [
      "0\n",
      "1\n",
      "2\n",
      "3\n",
      "4\n"
     ]
    }
   ],
   "source": [
    "for i in range(5):\n",
    "    print(i)"
   ]
  },
  {
   "cell_type": "code",
   "execution_count": null,
   "metadata": {
    "collapsed": true
   },
   "outputs": [],
   "source": [
    "# create a box to store our result\n",
    "data = []\n",
    "for i in range(len(df)):\n",
    "    for j in range(len(df['miRNAs'][i])):\n",
    "        tmp = [] # create a list need to append\n",
    "        # append correct circRNA\n",
    "        tmp.\n",
    "        # append correct miRNAs\n",
    "        tmp.\n",
    "        # append correct numSites\n",
    "        tmp.\n",
    "        # change type to easily save to DataFrame\n",
    "        tmp = np.array(tmp) \n",
    "        # append the result in this row\n",
    "        data.append(tmp)\n",
    "# change type to easily save to DataFrame        \n",
    "data = np.array(data)"
   ]
  },
  {
   "cell_type": "code",
   "execution_count": null,
   "metadata": {},
   "outputs": [],
   "source": [
    "# check the result\n",
    "print(data)"
   ]
  },
  {
   "cell_type": "code",
   "execution_count": null,
   "metadata": {},
   "outputs": [],
   "source": [
    "# add csv file header\n",
    "columns = [\"circRNA\", \"miRNAs\", \"numSites\"]\n",
    "df2 = pd.DataFrame(data,columns=columns)\n",
    "df2.to_csv(\"test.csv\", index=False)\n",
    "df2.head()"
   ]
  }
 ],
 "metadata": {
  "kernelspec": {
   "display_name": "Python 3",
   "language": "python",
   "name": "python3"
  },
  "language_info": {
   "codemirror_mode": {
    "name": "ipython",
    "version": 3
   },
   "file_extension": ".py",
   "mimetype": "text/x-python",
   "name": "python",
   "nbconvert_exporter": "python",
   "pygments_lexer": "ipython3",
   "version": "3.5.2"
  }
 },
 "nbformat": 4,
 "nbformat_minor": 2
}
