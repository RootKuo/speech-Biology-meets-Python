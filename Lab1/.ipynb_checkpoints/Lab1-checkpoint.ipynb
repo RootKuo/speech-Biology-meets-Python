{
 "cells": [
  {
   "cell_type": "code",
   "execution_count": 1,
   "metadata": {},
   "outputs": [
    {
     "name": "stdout",
     "output_type": "stream",
     "text": [
      "Input data is :\n",
      "GAAGAGCGTTCTCTAGATGAATCGAATCCTATAGCTCTCCGTAGATGCGGTTACTAATCAGGAGTCTCCTCTTATTGCCAACTTCAGTACGCATCCACGTTGAAATGTTAGTTGTGCTTCGTCGGGCCCATTCACGCCAAGACTTGTAGCAATTACGAGTAAGGGATGGCAGTCGTCTGGACCTGACAGTATGCACCAGTACATGGTATCGACACTTTCAAGCTCTTTGATCGTGTGCACCCCGGAGCCAAAGGCGCTACCCGACGCCTGTCAGTTACAAGGGAGGCTTTGGCTAATGTAATCCAAGTTGAGAATCGAACTGCCCTTAAGAGACTGGCCCACAACAAGAGCACTGAACTAGCCCTTGTTCTAAATTACTCGGGGCCATCAATGTTGGCAGTATAACGTTCAACGGGGGTATTGGTAACCGGCACTCACTTTCGTATTTGGACCCGTGAACCGAGCGGAGAATCTAAGCCCAGCACATTAATGATAACACACCCTCCAAACTGCAGCGTCAGAGTAACCGTCGTATTTTAGCCTCTCGGGAACGCACTAAGGCCTTACCGGTTCGATGACAGTCTGCGTGTATCAGATTAAGTTGTCGTCGCGTAAGTGAGGCAAGAGTCTTTATGTAGAACCTATTTTGGGCACGGTAAAGCGCAATCGCTTAAAAGACCGGCCGAGAGCCGCGTACTCTGCATTTGTCATGAACCCCTGGCGTATTCCCGCTAGAAACATCTACTCTTCGCTGTCTCCCACTATTTAGTATTCGACCGACCACGTACAAAGAACTTAAAATCAAGTTCACTATAATGGGAAGATTAACGTCGAATGATTCTAGAAGCATGCCCTTGTGTGATGACCTCTGTACCACGAACAGGGTGCACTACTTATTTGATATCGGCCGGTGCTCGGGTTTAATCTGGACCTCGCTTCGATGGGTTCCCT\n"
     ]
    }
   ],
   "source": [
    "%matplotlib inline\n",
    "import matplotlib.pyplot as plt\n",
    "file = open(\"data/dna.txt\", \"r\")\n",
    "print(\"Input data is :\")\n",
    "for columns in ( raw.split() for raw in file ):  \n",
    "    print(columns[0])"
   ]
  },
  {
   "cell_type": "code",
   "execution_count": null,
   "metadata": {
    "collapsed": true
   },
   "outputs": [],
   "source": [
    "DNA = columns[0]\n",
    "fig1= plt.figure(figsize=(6, 6))\n",
    "ax = fig1.add_axes([0.1, 0.1, 0.8, 0.8])\n",
    "\n",
    "def count_ATCG(input_string):\n",
    "    # You need to add a 1d-array(list) to count A, T, C, G  \n",
    "    ans = \n",
    "    return ans\n",
    "\n",
    "# You need to call your function\n",
    "value = \n",
    "\n",
    "# Defined the labels for chart\n",
    "key = 'Adenine', 'Thymine', 'Cytosine', 'Guanine'\n",
    "# Defined the moving distance of parts\n",
    "jump = (0, 0.1, 0, 0)\n",
    "# Defined the colors for chart\n",
    "color = ['yellowgreen', 'gold', 'lightskyblue', 'lightcoral']\n",
    "\n",
    "pies = ax.pie(value, explode=jump, labels=key, autopct='%1.1f%%', colors=color )\n",
    "plt.show()"
   ]
  }
 ],
 "metadata": {
  "kernelspec": {
   "display_name": "Python 3",
   "language": "python",
   "name": "python3"
  },
  "language_info": {
   "codemirror_mode": {
    "name": "ipython",
    "version": 3
   },
   "file_extension": ".py",
   "mimetype": "text/x-python",
   "name": "python",
   "nbconvert_exporter": "python",
   "pygments_lexer": "ipython3",
   "version": "3.5.2"
  }
 },
 "nbformat": 4,
 "nbformat_minor": 2
}
